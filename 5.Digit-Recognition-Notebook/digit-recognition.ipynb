{
 "cells": [
  {
   "cell_type": "markdown",
   "metadata": {},
   "source": [
    "# Digit-Recognition-Notebook"
   ]
  },
  {
   "cell_type": "markdown",
   "metadata": {},
   "source": [
    "In this jupyter notebook we are going to explaining how the Python script works and discussing its performance. "
   ]
  },
  {
   "cell_type": "markdown",
   "metadata": {},
   "source": [
    "Fistly we are to import the 4 gzip files from the Mnist database website here is the link http://yann.lecun.com/exdb/mnist/ and place them into our scripts file\n",
    "\n",
    "Then import pillow library PIL to import the Images from the files. \n",
    "#### from PIL import Image\n",
    "finaly import numpy.\n",
    "#### import numpy as np.\n",
    "NumPy is the fundamental package for scientific computing with Python. It contains among other things:\n",
    "\n",
    "-a powerful N-dimensional array object\n",
    "\n",
    "-sophisticated (broadcasting) functions\n",
    "\n",
    "-tools for integrating C/C++ and Fortran code\n",
    "\n",
    "-useful linear algebra, Fourier transform, and random number capabilities\n",
    "\n"
   ]
  },
  {
   "cell_type": "markdown",
   "metadata": {},
   "source": [
    "## Steps"
   ]
  },
  {
   "cell_type": "markdown",
   "metadata": {},
   "source": [
    "#### First step"
   ]
  },
  {
   "cell_type": "markdown",
   "metadata": {},
   "source": [
    "Is to read the the Images of the files and to creat a fuction for them. \n",
    "\n",
    "we need to print out the magic number that contanes the first 4 bytes of the file, we do this by using the following line of code \n",
    "##### magic = int.from_bytes(file.read(4), 'big')\n",
    "We also need to display the first 4 bytes of number of images, number of rows and number of columns by using the follow lines of code.\n",
    "##### number_of_Images = int.from_bytes(file.read(4), 'big')\n",
    "##### rows = int.from_bytes(file.read(4), 'big')\n",
    "##### columns = int.from_bytes(file.read(4), 'big')\n",
    "\n",
    "we then proceed to create an array for the images. We then created a for loop so it can find the image number, find the rows and find the columns. Also in this for loop we use append fuction to add the bytes to the colimns and to use this funtion append, to add images,row,and columns. \n",
    "\n",
    "We are using python also to decompress the images its also able to read the bytes in the appropriate order.\n"
   ]
  },
  {
   "cell_type": "markdown",
   "metadata": {},
   "source": [
    "## second step"
   ]
  },
  {
   "cell_type": "markdown",
   "metadata": {},
   "source": [
    "Is to read the the labels of the files and to creat a fuction for them.\n",
    "\n",
    "we need to print out the magic number that contanes the first 4 bytes of the file, we do this by using the following line of code\n",
    "\n",
    "magic = int.from_bytes(file.read(4), 'big')\n",
    "We also need to display the first 4 bytes of number of labels by using the follow lines of code.\n",
    "\n",
    "#### number_of_labels = int.from_bytes(file.read(4)\n",
    "\n",
    "We are using python also to decompress the labels its also able to read the bytes in the appropriate order."
   ]
  },
  {
   "cell_type": "markdown",
   "metadata": {},
   "source": [
    "### Third step"
   ]
  },
  {
   "cell_type": "markdown",
   "metadata": {},
   "source": [
    "In this step we call the funtion to read the image file. the images is then put through the fuction in order to be downloaded.\n",
    "\n",
    "##### show the image\n",
    "we then convert the fuction to an image to be formatted into a 'RGB'\n",
    "to display the image using this code 'image.show()'\n",
    "##### save image\n",
    "We then save the image and and place it in the python file, using the followng bit code. 'image.save()'"
   ]
  },
  {
   "cell_type": "markdown",
   "metadata": {},
   "source": [
    "## Results????"
   ]
  },
  {
   "cell_type": "markdown",
   "metadata": {},
   "source": [
    "The results i feel are ok, it does what its sapose to do, it reads in the gzip files byte by byte, converts it into a RGB format, it displays the image and saves to the folder in a PNG file. Im sure there is a better way if doing it.\n",
    "\n",
    "I have tryed and tested the script many times and with differnt images using the trainImage fuction retrieve back differnt results of images.\n",
    "\n",
    "I have also been timing the process of running the script the results are when i run it to display one image it takes about 56 seconds.\n",
    "If I run it serching for two images it takes about 59 seconds.\n",
    "\n",
    "I decide to go with bytes 434 and 545. 545 returns image number 8 and 434 returns the image number 9. as you can see the number clearly on the image."
   ]
  },
  {
   "cell_type": "code",
   "execution_count": null,
   "metadata": {},
   "outputs": [],
   "source": []
  }
 ],
 "metadata": {
  "kernelspec": {
   "display_name": "Python 3",
   "language": "python",
   "name": "python3"
  },
  "language_info": {
   "codemirror_mode": {
    "name": "ipython",
    "version": 3
   },
   "file_extension": ".py",
   "mimetype": "text/x-python",
   "name": "python",
   "nbconvert_exporter": "python",
   "pygments_lexer": "ipython3",
   "version": "3.6.5"
  }
 },
 "nbformat": 4,
 "nbformat_minor": 2
}
